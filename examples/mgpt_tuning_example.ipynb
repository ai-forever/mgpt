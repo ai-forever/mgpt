{
 "cells": [
  {
   "cell_type": "markdown",
   "id": "0a72a082",
   "metadata": {},
   "source": [
    "## Yakut simple example of model training"
   ]
  },
  {
   "cell_type": "code",
   "execution_count": 1,
   "id": "428756cc",
   "metadata": {},
   "outputs": [],
   "source": [
    "import torch\n",
    "import numpy as np\n",
    "from tqdm import tqdm\n",
    "from torch.utils.data import Dataset, DataLoader\n",
    "from transformers import GPT2LMHeadModel, GPT2Tokenizer"
   ]
  },
  {
   "cell_type": "code",
   "execution_count": 2,
   "id": "c816d431",
   "metadata": {},
   "outputs": [],
   "source": [
    "class TextDataset(Dataset):\n",
    "    def __init__(self, path, tokenizer, seq_length=512):\n",
    "        with open(path) as f:\n",
    "            data = f.read()\n",
    "        tokens = tokenizer.encode(data)\n",
    "        examples = []\n",
    "        for i in range(0, len(tokens) - seq_length + 1, seq_length):\n",
    "            examples.append(tokens[i:i + seq_length])\n",
    "        self.samples = torch.LongTensor(examples)\n",
    "        print('Loaded samples:', len(self.samples))\n",
    "    \n",
    "    def __len__(self):\n",
    "        return len(self.samples)\n",
    "\n",
    "    def __getitem__(self, item):\n",
    "        return self.samples[item]"
   ]
  },
  {
   "cell_type": "code",
   "execution_count": null,
   "id": "90b41633",
   "metadata": {},
   "outputs": [],
   "source": [
    "tokenizer = GPT2Tokenizer.from_pretrained(\"sberbank-ai/mGPT\")"
   ]
  },
  {
   "cell_type": "code",
   "execution_count": null,
   "id": "8e9c4d81",
   "metadata": {},
   "outputs": [],
   "source": [
    "dataset = TextDataset('./data/sah.txt', tokenizer)\n",
    "dataloader = DataLoader(dataset, batch_size=1, shuffle=True, drop_last=True)"
   ]
  },
  {
   "cell_type": "code",
   "execution_count": 5,
   "id": "8482644a",
   "metadata": {},
   "outputs": [],
   "source": [
    "model = GPT2LMHeadModel.from_pretrained(\"sberbank-ai/mGPT\")"
   ]
  },
  {
   "cell_type": "code",
   "execution_count": 6,
   "id": "65689946",
   "metadata": {},
   "outputs": [],
   "source": [
    "if torch.cuda.is_available():\n",
    "    model.cuda()\n",
    "model.train()\n",
    "optimizer = torch.optim.AdamW(params=model.parameters(), lr=1e-5)"
   ]
  },
  {
   "cell_type": "code",
   "execution_count": null,
   "id": "1f298253",
   "metadata": {},
   "outputs": [],
   "source": [
    "for epoch in range(3):\n",
    "    print('Epoch', epoch)\n",
    "    progressbar = tqdm(dataloader)\n",
    "    losses = []\n",
    "    for batch in progressbar:\n",
    "        batch = batch.to(model.device)\n",
    "        outputs = model(batch, labels=batch)\n",
    "        loss = outputs.loss\n",
    "        loss.backward()\n",
    "        optimizer.step()\n",
    "        optimizer.zero_grad()\n",
    "        losses.append(loss.detach().item())\n",
    "        progressbar.set_description(\"Loss: %.3f\" % np.mean(losses[-10:]))"
   ]
  }
 ],
 "metadata": {
  "kernelspec": {
   "display_name": "Python 3 (ipykernel)",
   "language": "python",
   "name": "python3"
  },
  "language_info": {
   "codemirror_mode": {
    "name": "ipython",
    "version": 3
   },
   "file_extension": ".py",
   "mimetype": "text/x-python",
   "name": "python",
   "nbconvert_exporter": "python",
   "pygments_lexer": "ipython3",
   "version": "3.7.12"
  }
 },
 "nbformat": 4,
 "nbformat_minor": 5
}
