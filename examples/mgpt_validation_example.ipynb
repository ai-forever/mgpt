{
 "cells": [
  {
   "cell_type": "code",
   "execution_count": 1,
   "id": "79a07823",
   "metadata": {},
   "outputs": [],
   "source": [
    "%load_ext autoreload\n",
    "%autoreload 2"
   ]
  },
  {
   "cell_type": "code",
   "execution_count": 2,
   "id": "9e57d7f9",
   "metadata": {},
   "outputs": [],
   "source": [
    "import torch\n",
    "import numpy as np\n",
    "from tqdm import tqdm\n",
    "from torch.utils.data import Dataset, DataLoader\n",
    "from transformers import GPT2LMHeadModel, GPT2Tokenizer"
   ]
  },
  {
   "cell_type": "code",
   "execution_count": 3,
   "id": "0b528fb8",
   "metadata": {},
   "outputs": [],
   "source": [
    "class TextDataset(Dataset):\n",
    "    def __init__(self, path, tokenizer, seq_length=512):\n",
    "        with open(path) as f:\n",
    "            data = f.read()\n",
    "        tokens = tokenizer.encode(data)\n",
    "        examples = []\n",
    "        for i in range(0, len(tokens) - seq_length + 1, seq_length):\n",
    "            examples.append(tokens[i:i + seq_length])\n",
    "        self.samples = torch.LongTensor(examples)\n",
    "        print('Loaded samples:', len(self.samples))\n",
    "    \n",
    "    def __len__(self):\n",
    "        return len(self.samples)\n",
    "\n",
    "    def __getitem__(self, item):\n",
    "        return self.samples[item]"
   ]
  },
  {
   "cell_type": "code",
   "execution_count": 4,
   "id": "6a4b57e8",
   "metadata": {},
   "outputs": [],
   "source": [
    "tokenizer = GPT2Tokenizer.from_pretrained(\"sberbank-ai/mGPT\")"
   ]
  },
  {
   "cell_type": "code",
   "execution_count": 5,
   "id": "830e088f",
   "metadata": {},
   "outputs": [
    {
     "name": "stdout",
     "output_type": "stream",
     "text": [
      "Loaded samples: 2173\n"
     ]
    }
   ],
   "source": [
    "dataset = TextDataset(\"./data/sah.txt\", tokenizer)\n",
    "dataloader = DataLoader(dataset, batch_size=1, shuffle=True, drop_last=True)"
   ]
  },
  {
   "cell_type": "code",
   "execution_count": 6,
   "id": "d960800c",
   "metadata": {},
   "outputs": [],
   "source": [
    "model = GPT2LMHeadModel.from_pretrained(\"sberbank-ai/mGPT\")"
   ]
  },
  {
   "cell_type": "code",
   "execution_count": 7,
   "id": "815ce73a",
   "metadata": {},
   "outputs": [],
   "source": [
    "if torch.cuda.is_available():\n",
    "    model.cuda()"
   ]
  },
  {
   "cell_type": "code",
   "execution_count": 8,
   "id": "30394ecc",
   "metadata": {},
   "outputs": [
    {
     "name": "stderr",
     "output_type": "stream",
     "text": [
      "100%|██████████| 2173/2173 [01:06<00:00, 32.43it/s]\n"
     ]
    }
   ],
   "source": [
    "progressbar = tqdm(dataloader)\n",
    "losses = []\n",
    "for batch in progressbar:\n",
    "    batch = batch.to(model.device)\n",
    "    outputs = model(batch, labels=batch)\n",
    "    loss = outputs.loss\n",
    "    losses.append(loss.detach().item())"
   ]
  },
  {
   "cell_type": "code",
   "execution_count": 9,
   "id": "4d23cf63",
   "metadata": {},
   "outputs": [
    {
     "name": "stdout",
     "output_type": "stream",
     "text": [
      "loss: 2.2140769756065226\n",
      "ppl: 9.152956808961022\n"
     ]
    }
   ],
   "source": [
    "print(\"loss:\", np.mean(losses))\n",
    "print(\"ppl:\", np.exp(np.mean(losses)))"
   ]
  },
  {
   "cell_type": "code",
   "execution_count": null,
   "id": "734158b0",
   "metadata": {},
   "outputs": [],
   "source": []
  }
 ],
 "metadata": {
  "kernelspec": {
   "display_name": "Python 3 (ipykernel)",
   "language": "python",
   "name": "python3"
  },
  "language_info": {
   "codemirror_mode": {
    "name": "ipython",
    "version": 3
   },
   "file_extension": ".py",
   "mimetype": "text/x-python",
   "name": "python",
   "nbconvert_exporter": "python",
   "pygments_lexer": "ipython3",
   "version": "3.7.12"
  }
 },
 "nbformat": 4,
 "nbformat_minor": 5
}
