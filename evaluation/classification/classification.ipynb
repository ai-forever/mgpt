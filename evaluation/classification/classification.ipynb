{
 "cells": [
  {
   "cell_type": "markdown",
   "id": "47a26156",
   "metadata": {},
   "source": [
    "## Multilingual GPT3: sentence classification"
   ]
  },
  {
   "cell_type": "code",
   "execution_count": null,
   "id": "ddcafe4c",
   "metadata": {},
   "outputs": [],
   "source": [
    "%load_ext autoreload\n",
    "%autoreload 2"
   ]
  },
  {
   "cell_type": "code",
   "execution_count": null,
   "id": "d3853723",
   "metadata": {},
   "outputs": [],
   "source": [
    "import datetime\n",
    "import os\n",
    "import json\n",
    "import numpy as np\n",
    "\n",
    "import torch\n",
    "from torch.nn import CrossEntropyLoss\n",
    "from transformers import GPT2LMHeadModel, GPT2Tokenizer\n",
    "\n",
    "from evaluate.mgpt_classification import evaluate_task, PAWSXTask, Metrics\n",
    "from evaluate.mgpt_classification_configs import PAWSXTaskConfig\n",
    "\n",
    "from inference import load_mgpt"
   ]
  },
  {
   "cell_type": "code",
   "execution_count": null,
   "id": "27d89f9d",
   "metadata": {},
   "outputs": [],
   "source": [
    "model = load_mgpt(\"sberbank-ai/mGPT\")"
   ]
  },
  {
   "cell_type": "markdown",
   "id": "720270c4",
   "metadata": {},
   "source": [
    "### PAWSX example"
   ]
  },
  {
   "cell_type": "code",
   "execution_count": null,
   "id": "beb9a135",
   "metadata": {},
   "outputs": [],
   "source": [
    "task_name = \"PAWSX\"\n",
    "shots = 0"
   ]
  },
  {
   "cell_type": "code",
   "execution_count": null,
   "id": "2f4c3041",
   "metadata": {},
   "outputs": [],
   "source": [
    "task_config = PAWSXTaskConfig(shot_nums=shots)\n",
    "task = PAWSXTask(task_config)"
   ]
  },
  {
   "cell_type": "code",
   "execution_count": null,
   "id": "f7f36cd6",
   "metadata": {
    "scrolled": true
   },
   "outputs": [],
   "source": [
    "y_true, y_pred = task.predict(model)"
   ]
  },
  {
   "cell_type": "code",
   "execution_count": null,
   "id": "ab3717fe",
   "metadata": {},
   "outputs": [],
   "source": [
    "metric = Metrics(task_name)\n",
    "result = metric.calculate_metric(y_true, y_pred)"
   ]
  },
  {
   "cell_type": "markdown",
   "id": "4a1bf438",
   "metadata": {},
   "source": [
    "### All tasks"
   ]
  },
  {
   "cell_type": "code",
   "execution_count": null,
   "id": "1597ca6a",
   "metadata": {},
   "outputs": [],
   "source": [
    "shots_list = [0, 1, 2]"
   ]
  },
  {
   "cell_type": "code",
   "execution_count": null,
   "id": "234c835d",
   "metadata": {},
   "outputs": [],
   "source": [
    "results_root = 'results/'\n",
    "\n",
    "os.makedirs(results_root, exist_ok=True)\n",
    "tasks = ['PAWSX']\n",
    "models = [('model', model)]\n",
    "results = {}\n",
    "start_time = str(datetime.datetime.now())\n",
    "result_fname = results_root + 'result_' + start_time + '.json'\n",
    "for task_name in tasks:\n",
    "    print('TASK', task_name)\n",
    "    results[task_name] = {}\n",
    "    for name, model in models:\n",
    "        print('MODEL', name)\n",
    "        results[task_name][name] = {}\n",
    "        for shots in shots_list:\n",
    "            print('FEWSHOTS', shots)\n",
    "            metrics = evaluate_task(task_name, model, shots)\n",
    "            results[task_name][name][shots] = metrics\n",
    "            with open(result_fname, 'w') as f:\n",
    "                json.dump(results, f, ensure_ascii=False, indent=4, sort_keys=True)\n",
    "                print('saved to', result_fname)\n",
    "            print(f'Accuracy on the {task_name} dataset:', *metrics, sep='\\n')"
   ]
  },
  {
   "cell_type": "code",
   "execution_count": null,
   "id": "9634f8e2",
   "metadata": {},
   "outputs": [],
   "source": []
  },
  {
   "cell_type": "code",
   "execution_count": null,
   "id": "8f0e961f",
   "metadata": {},
   "outputs": [],
   "source": []
  }
 ],
 "metadata": {
  "kernelspec": {
   "display_name": "Python 3 (ipykernel)",
   "language": "python",
   "name": "python3"
  },
  "language_info": {
   "codemirror_mode": {
    "name": "ipython",
    "version": 3
   },
   "file_extension": ".py",
   "mimetype": "text/x-python",
   "name": "python",
   "nbconvert_exporter": "python",
   "pygments_lexer": "ipython3",
   "version": "3.7.12"
  }
 },
 "nbformat": 4,
 "nbformat_minor": 5
}
