{
 "cells": [
  {
   "cell_type": "code",
   "execution_count": 3,
   "id": "9adb71a0",
   "metadata": {},
   "outputs": [],
   "source": [
    "import transformers"
   ]
  },
  {
   "cell_type": "code",
   "execution_count": 4,
   "id": "b61e6873",
   "metadata": {},
   "outputs": [
    {
     "data": {
      "text/plain": [
       "'4.10.3'"
      ]
     },
     "execution_count": 4,
     "metadata": {},
     "output_type": "execute_result"
    }
   ],
   "source": [
    "transformers.__version__"
   ]
  },
  {
   "cell_type": "code",
   "execution_count": 14,
   "id": "bd12ea5b",
   "metadata": {},
   "outputs": [],
   "source": [
    "import torch\n",
    "from tqdm import tqdm\n",
    "import num\n",
    "from transformers import GPT2LMHeadModel, GPT2Tokenizer"
   ]
  },
  {
   "cell_type": "code",
   "execution_count": 6,
   "id": "cd0e7b64",
   "metadata": {},
   "outputs": [
    {
     "data": {
      "application/vnd.jupyter.widget-view+json": {
       "model_id": "0dce0699ee654d6f9d37e9f179358ca3",
       "version_major": 2,
       "version_minor": 0
      },
      "text/plain": [
       "Downloading:   0%|          | 0.00/1.89M [00:00<?, ?B/s]"
      ]
     },
     "metadata": {},
     "output_type": "display_data"
    },
    {
     "data": {
      "application/vnd.jupyter.widget-view+json": {
       "model_id": "7c93be2a52cd4833a5ef0b8476a87db5",
       "version_major": 2,
       "version_minor": 0
      },
      "text/plain": [
       "Downloading:   0%|          | 0.00/1.20M [00:00<?, ?B/s]"
      ]
     },
     "metadata": {},
     "output_type": "display_data"
    },
    {
     "name": "stderr",
     "output_type": "stream",
     "text": [
      "404 Client Error: Not Found for url: https://huggingface.co/sberbank-ai/mGPT/resolve/main/config.json\n"
     ]
    },
    {
     "name": "stdout",
     "output_type": "stream",
     "text": [
      "Load model\n"
     ]
    },
    {
     "data": {
      "application/vnd.jupyter.widget-view+json": {
       "model_id": "63ef987191d24472bad23b66983b4cae",
       "version_major": 2,
       "version_minor": 0
      },
      "text/plain": [
       "Downloading:   0%|          | 0.00/725 [00:00<?, ?B/s]"
      ]
     },
     "metadata": {},
     "output_type": "display_data"
    },
    {
     "data": {
      "application/vnd.jupyter.widget-view+json": {
       "model_id": "3008f1d182594b41bc616ba010f76040",
       "version_major": 2,
       "version_minor": 0
      },
      "text/plain": [
       "Downloading:   0%|          | 0.00/5.77G [00:00<?, ?B/s]"
      ]
     },
     "metadata": {},
     "output_type": "display_data"
    }
   ],
   "source": [
    "tokenizer = GPT2Tokenizer.from_pretrained(\"sberbank-ai/mGPT\")\n",
    "print('Load model')\n",
    "external_model = GPT2LMHeadModel.from_pretrained(\"sberbank-ai/mGPT\")"
   ]
  },
  {
   "cell_type": "code",
   "execution_count": 40,
   "id": "6519a615",
   "metadata": {},
   "outputs": [
    {
     "name": "stderr",
     "output_type": "stream",
     "text": [
      "Setting `pad_token_id` to `eos_token_id`:5 for open-end generation.\n",
      "Setting `pad_token_id` to `eos_token_id`:5 for open-end generation.\n",
      "Setting `pad_token_id` to `eos_token_id`:5 for open-end generation.\n",
      "Setting `pad_token_id` to `eos_token_id`:5 for open-end generation.\n",
      "Setting `pad_token_id` to `eos_token_id`:5 for open-end generation.\n",
      "Setting `pad_token_id` to `eos_token_id`:5 for open-end generation.\n",
      "Setting `pad_token_id` to `eos_token_id`:5 for open-end generation.\n",
      "Setting `pad_token_id` to `eos_token_id`:5 for open-end generation.\n",
      "Setting `pad_token_id` to `eos_token_id`:5 for open-end generation.\n",
      "Setting `pad_token_id` to `eos_token_id`:5 for open-end generation.\n",
      "Setting `pad_token_id` to `eos_token_id`:5 for open-end generation.\n",
      "Setting `pad_token_id` to `eos_token_id`:5 for open-end generation.\n",
      "Setting `pad_token_id` to `eos_token_id`:5 for open-end generation.\n"
     ]
    },
    {
     "name": "stdout",
     "output_type": "stream",
     "text": [
      "---\n",
      "Александр Сергеевич Пушкин родился в  г. Санкт-Петербурге.\n",
      "Воспитывался в семье поэта и писателя А. С. Пушкина.\n",
      "В 1870 году окончил Санкт-Петербургскую гимназию.\n",
      "В 1872 году поступил на юридический факультет Санкт-Петербургского университета.\n",
      "В 1874 году окончил университет со степенью кандидата прав.\n",
      "В 1875 году поступил на службу в Министерство юстиции Российской империи.\n",
      "В 1876 году был назначен помощником прок\n",
      "---\n",
      "Alexander Sergeevich Pushkin was born in <nowiki>Saint Petersburg</nowiki>, Russia, on March 7, 1818. He was the son of a merchant. He studied at the Saint Petersburg Academy of Arts and Sciences, and graduated in 1840. He was a member of the Saint Petersburg Academy, and was a member of Saint Petersburg's Academy of Sciences. He was a professor of Russian literature at the Saint Petersburg University.\n",
      "Pushkin was a prolific writer,\n",
      "---\n",
      "Олександр Сергійович Пушкін народився в історичному місті Санкт-Петербург, Російська імперія.\n",
      "Народився в родині військового інженера.\n",
      "У віці 16 років він вступив до Петербурзького університету, який закінчив у 1871 роц\n",
      "---\n",
      "Аляксандр Сяргеевіч Пушкін нарадзіўся ў інтэрнаце № 1 г. Мінска ў сям’і рабочага. У дзяцінстве ён быў вельмі актыўным і ўдумлівым, але ў школе ён не вучыўся,\n",
      "---\n",
      "Александр Сергеевич Пушкин шәһәрендә туган.\n",
      "Тәрҗемәи хәле.\n",
      "Туган авылында туган. Әтисе — Пушкиннар гаиләсендәге беренче кеше.\n",
      "Бала чагында ук әтисе белән бергә өйдә\n",
      "---\n",
      "Александр Сергеевич Пушкин дүниеге келген кезде өзінің өміріндегі ең қиын жағдайлардың бірі – өлім болған. Өлімініқызметіндегi қиынышты жағ\n",
      "---\n",
      "亚历山大*谢尔盖耶维奇*普希金出生于俄罗斯帝国的圣彼得堡，是俄罗斯著名作家、诗人、剧作家、翻译家、音乐家、音乐教育家、音乐教育专家、音乐教育理论家、音乐教育思想家、音乐教育教育家、音乐教师、音乐教育家。他曾经是俄罗斯国家音乐学院院长，俄罗斯国家音乐学院名誉院长，俄罗斯音乐学院名誉院士，俄罗斯\n",
      "---\n",
      "알렉산더 세르게 비치 푸쉬킨은 <그림자>에서 그린다.\n",
      "그림자에서 나온 그림자\n",
      "그림자에 대한 이야기는 이렇다.\n",
      "그리고 그림자에 대한 설명은 이렇다. 그림자에 대해서 이야기하는 것은 이렇다. 그리고 그림자에 관한 설명은 이렇게.\n",
      "그림자는 우리가 보는 것과는\n",
      "---\n",
      "Alexander Sergeevich Pushkinはで生まれました。\n",
      "彼は、ロシアの作曲家で、彼の作品は、ロシアの音楽の伝統を反映しています。 彼は、彼の作品の中で、彼の音楽は、彼の人生のすべての部分に反映されています。 彼の作品は、彼の人生のすべてに反映されていません。 彼の作品は、「ロシアの音楽」の象徴です。 彼の作品は「ロシアの音楽」を象徴しています。\n",
      "彼は、\n",
      "---\n",
      "Александр Сергеевич Пушкин ҫуралнӑ ҫәрәк ҫөрәнӑн ҫӑрӑнӑн, ҫӗрӑн ӗнӗн ҫуллӑ ҳәм ҫӕрӗн ӗрӗнӑн.\n",
      "Һӑр\n",
      "---\n",
      "Александр Сергеевич Пушкин төрөөбүтэ үлэлиир.\n",
      "Бу сирэйи бүтэһигин 19 Мүөлтүн ыйын 2018 күнү 04:00 Лондондаа.\n",
      "ТөрӨөбҮтэ Үлэлиир\n",
      "Бу ситимнээх\n",
      "---\n",
      "Alexander Puschkin wurde in  Kiew geboren. Er studierte an der Universität Kiew und wurde dort promoviert. Er war Professor für Geschichte an der Universität Kasan und an der Universität Kirow.\n",
      "Er war Mitglied der Akademie der Wissenschaften der Ukraine.\n",
      "Er war verheiratet und hatte zwei Kinder.\n",
      "Werk.\n",
      "Puschkin schrieb zahlreiche historische Romane, Erzählungen, Gedichte und Theaterstücke. Er war ein Vertreter der russischen Literatur des 19. Jahrhunderts.\n",
      "Er war ein Vertreter der\n",
      "---\n",
      "Alexandre Sergueïevitch Pouchkine est né le à  à Saint-Pétersbourg. Il est le fils de Sergueï Pouchkine et de son épouse, née Sergueïeva.\n",
      "Il est le frère de Sergueï Sergueïevich Pouchkine, le père de Sergueï Alexandrovitch Pouchkina, le père de Vladimir Pouchkine.\n",
      "Il est l'oncle de Sergueï Sergeev\n"
     ]
    }
   ],
   "source": [
    "texts = [\n",
    "    \"Александр Сергеевич Пушкин родился в \",\n",
    "    \"Alexander Sergeevich Pushkin was born in \",\n",
    "    \"Олександр Сергійович Пушкін народився в \",\n",
    "    \"Аляксандр Сяргеевіч Пушкін нарадзіўся ў \",\n",
    "    \"Александр Сергеевич Пушкин шәһәрендә туган\",\n",
    "    \"Александр Сергеевич Пушкин дүниеге келген\",\n",
    "    \"亚历山大*谢尔盖耶维奇*普希金出生于\",\n",
    "    \"알렉산더 세르게 비치 푸쉬킨은 \",\n",
    "    \"Alexander Sergeevich Pushkinはで生まれました\",\n",
    "    \"Александр Сергеевич Пушкин ҫуралнӑ \",\n",
    "    \"Александр Сергеевич Пушкин төрөөбүтэ \",\n",
    "    \"Alexander Puschkin wurde in \",\n",
    "    \"Alexandre Sergueïevitch Pouchkine est né le à \",\n",
    "]\n",
    "gens = []\n",
    "for text in texts:\n",
    "    input_ids = tokenizer.encode(text, return_tensors=\"pt\").cuda(device)\n",
    "    out = external_model.generate(\n",
    "        input_ids, \n",
    "        min_length=100, \n",
    "        max_length=100, \n",
    "        eos_token_id=5, \n",
    "        pad_token=1,\n",
    "        top_k=10,\n",
    "        top_p=0.0,\n",
    "        no_repeat_ngram_size=5\n",
    ")\n",
    "    generated_text = list(map(tokenizer.decode, out))[0]\n",
    "    gens.append(generated_text)\n",
    "for generated_text in gens:\n",
    "    print('---')\n",
    "    print(generated_text)"
   ]
  }
 ],
 "metadata": {
  "kernelspec": {
   "display_name": "Python (terminal)",
   "language": "python",
   "name": "term_python"
  },
  "language_info": {
   "codemirror_mode": {
    "name": "ipython",
    "version": 3
   },
   "file_extension": ".py",
   "mimetype": "text/x-python",
   "name": "python",
   "nbconvert_exporter": "python",
   "pygments_lexer": "ipython3",
   "version": "3.7.12"
  }
 },
 "nbformat": 4,
 "nbformat_minor": 5
}
